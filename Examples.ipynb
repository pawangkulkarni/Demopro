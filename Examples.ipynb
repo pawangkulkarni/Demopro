{
 "cells": [
  {
   "cell_type": "markdown",
   "id": "beb11427",
   "metadata": {},
   "source": [
    "OOPS - Frigate "
   ]
  },
  {
   "cell_type": "code",
   "execution_count": 15,
   "id": "142e5e35",
   "metadata": {},
   "outputs": [
    {
     "name": "stdout",
     "output_type": "stream",
     "text": [
      "\n",
      "----USSGRACIA\n",
      "\n",
      "BOOM\n",
      "\n",
      " gracia ammo remianing ^ 998\n",
      "\n",
      "BOOM\n",
      "\n",
      " gracia ammo remianing ^ 996\n",
      "\n",
      " gracia heading = 180 degree\n",
      "\n",
      " gracia speed = 20 knots\n"
     ]
    }
   ],
   "source": [
    "class Frigate(object):\n",
    "    \n",
    "    designation = \"USS\"\n",
    "    \n",
    "    def __init__(self,name):\n",
    "        self.name = name\n",
    "        self.crew = 200\n",
    "        self.length_ft = 450\n",
    "        self.tonnage = 5_000\n",
    "        self.fuel_gas = 50000\n",
    "        self.guns = 2\n",
    "        self.ammo = self.guns * 500\n",
    "        self.heading = 0\n",
    "        self.max_speed = 24\n",
    "        self.speed  = 0\n",
    "        \n",
    "        \n",
    "    def fire_guns(self):\n",
    "        if self.ammo >= self.guns:\n",
    "            print(\"\\nBOOM\")\n",
    "            self.ammo -= self.guns\n",
    "            print(f\"\\n {self.name} ammo remianing ^ {self.ammo}\")\n",
    "        else:\n",
    "            print(\"insufficient ammunation\")\n",
    "               \n",
    "    def helm(self, heading, speed):\n",
    "        self.heading = heading\n",
    "        self.speed = speed\n",
    "        if self.speed > self.max_speed:\n",
    "            self_speed = self.max_speed\n",
    "        print ( f\"\\n {self.name} heading = {self.heading} degree\")\n",
    "        print(f\"\\n {self.name} speed = {self.speed} knots\")                  \n",
    "                  \n",
    "gracia = Frigate('gracia')\n",
    "print( f\"\\n----{Frigate.designation}{gracia.name.upper()}\")\n",
    "gracia.fire_guns()\n",
    "gracia.fire_guns()\n",
    "gracia.helm(heading = 180, speed =20)\n",
    "                  \n",
    "            "
   ]
  },
  {
   "cell_type": "code",
   "execution_count": null,
   "id": "e9f03459",
   "metadata": {},
   "outputs": [],
   "source": []
  }
 ],
 "metadata": {
  "kernelspec": {
   "display_name": "Python [conda env:my_jup_env]",
   "language": "python",
   "name": "conda-env-my_jup_env-py"
  },
  "language_info": {
   "codemirror_mode": {
    "name": "ipython",
    "version": 3
   },
   "file_extension": ".py",
   "mimetype": "text/x-python",
   "name": "python",
   "nbconvert_exporter": "python",
   "pygments_lexer": "ipython3",
   "version": "3.11.0"
  }
 },
 "nbformat": 4,
 "nbformat_minor": 5
}
